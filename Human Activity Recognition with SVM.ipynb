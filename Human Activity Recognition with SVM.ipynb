{
 "cells": [
  {
   "cell_type": "code",
   "execution_count": 1,
   "metadata": {},
   "outputs": [
    {
     "name": "stderr",
     "output_type": "stream",
     "text": [
      "\n",
      "Bad key \"text.kerning_factor\" on line 4 in\n",
      "C:\\Users\\Asus\\anaconda3\\lib\\site-packages\\matplotlib\\mpl-data\\stylelib\\_classic_test_patch.mplstyle.\n",
      "You probably need to get an updated matplotlibrc file from\n",
      "https://github.com/matplotlib/matplotlib/blob/v3.1.3/matplotlibrc.template\n",
      "or from the matplotlib source distribution\n"
     ]
    }
   ],
   "source": [
    "import numpy as np\n",
    "import pylab as pl\n",
    "import pandas as pd\n",
    "import matplotlib.pyplot as plt \n",
    "from sklearn.model_selection import cross_val_score, GridSearchCV\n",
    "from sklearn.svm import SVC\n",
    "from sklearn.utils import shuffle\n",
    "from sklearn.metrics import confusion_matrix,classification_report"
   ]
  },
  {
   "cell_type": "code",
   "execution_count": 3,
   "metadata": {},
   "outputs": [],
   "source": [
    "#Load the Train and Test set\n",
    "train = shuffle(pd.read_csv(\"train.csv\"))\n",
    "test = shuffle(pd.read_csv(\"test.csv\"))"
   ]
  },
  {
   "cell_type": "code",
   "execution_count": 4,
   "metadata": {},
   "outputs": [
    {
     "name": "stdout",
     "output_type": "stream",
     "text": [
      "Any missing sample in training set: False\n",
      "Any missing sample in test set: False \n",
      "\n"
     ]
    }
   ],
   "source": [
    "#Check for missing values in the dataset\n",
    "print(\"Any missing sample in training set:\",train.isnull().values.any())\n",
    "print(\"Any missing sample in test set:\",test.isnull().values.any(), \"\\n\")"
   ]
  },
  {
   "cell_type": "code",
   "execution_count": 8,
   "metadata": {},
   "outputs": [
    {
     "data": {
      "text/html": [
       "<div>\n",
       "<style scoped>\n",
       "    .dataframe tbody tr th:only-of-type {\n",
       "        vertical-align: middle;\n",
       "    }\n",
       "\n",
       "    .dataframe tbody tr th {\n",
       "        vertical-align: top;\n",
       "    }\n",
       "\n",
       "    .dataframe thead th {\n",
       "        text-align: right;\n",
       "    }\n",
       "</style>\n",
       "<table border=\"1\" class=\"dataframe\">\n",
       "  <thead>\n",
       "    <tr style=\"text-align: right;\">\n",
       "      <th></th>\n",
       "      <th>tBodyAcc-mean()-X</th>\n",
       "      <th>tBodyAcc-mean()-Y</th>\n",
       "      <th>tBodyAcc-mean()-Z</th>\n",
       "      <th>tBodyAcc-std()-X</th>\n",
       "      <th>tBodyAcc-std()-Y</th>\n",
       "      <th>tBodyAcc-std()-Z</th>\n",
       "      <th>tBodyAcc-mad()-X</th>\n",
       "      <th>tBodyAcc-mad()-Y</th>\n",
       "      <th>tBodyAcc-mad()-Z</th>\n",
       "      <th>tBodyAcc-max()-X</th>\n",
       "      <th>...</th>\n",
       "      <th>fBodyBodyGyroJerkMag-kurtosis()</th>\n",
       "      <th>angle(tBodyAccMean,gravity)</th>\n",
       "      <th>angle(tBodyAccJerkMean),gravityMean)</th>\n",
       "      <th>angle(tBodyGyroMean,gravityMean)</th>\n",
       "      <th>angle(tBodyGyroJerkMean,gravityMean)</th>\n",
       "      <th>angle(X,gravityMean)</th>\n",
       "      <th>angle(Y,gravityMean)</th>\n",
       "      <th>angle(Z,gravityMean)</th>\n",
       "      <th>subject</th>\n",
       "      <th>Activity</th>\n",
       "    </tr>\n",
       "  </thead>\n",
       "  <tbody>\n",
       "    <tr>\n",
       "      <th>640</th>\n",
       "      <td>0.223651</td>\n",
       "      <td>-0.014994</td>\n",
       "      <td>-0.203510</td>\n",
       "      <td>-0.307660</td>\n",
       "      <td>-0.082588</td>\n",
       "      <td>-0.464355</td>\n",
       "      <td>-0.443444</td>\n",
       "      <td>-0.171444</td>\n",
       "      <td>-0.486818</td>\n",
       "      <td>0.330917</td>\n",
       "      <td>...</td>\n",
       "      <td>-0.806443</td>\n",
       "      <td>0.157981</td>\n",
       "      <td>-0.847626</td>\n",
       "      <td>0.924997</td>\n",
       "      <td>-0.109301</td>\n",
       "      <td>-0.793385</td>\n",
       "      <td>0.220866</td>\n",
       "      <td>0.093455</td>\n",
       "      <td>3</td>\n",
       "      <td>WALKING_DOWNSTAIRS</td>\n",
       "    </tr>\n",
       "    <tr>\n",
       "      <th>2152</th>\n",
       "      <td>0.270853</td>\n",
       "      <td>-0.001038</td>\n",
       "      <td>-0.120773</td>\n",
       "      <td>-0.437349</td>\n",
       "      <td>-0.030303</td>\n",
       "      <td>-0.589721</td>\n",
       "      <td>-0.499921</td>\n",
       "      <td>-0.018909</td>\n",
       "      <td>-0.580994</td>\n",
       "      <td>-0.302790</td>\n",
       "      <td>...</td>\n",
       "      <td>-0.299789</td>\n",
       "      <td>0.231119</td>\n",
       "      <td>-0.244614</td>\n",
       "      <td>0.574819</td>\n",
       "      <td>0.305655</td>\n",
       "      <td>-0.795227</td>\n",
       "      <td>0.228827</td>\n",
       "      <td>-0.038371</td>\n",
       "      <td>11</td>\n",
       "      <td>WALKING</td>\n",
       "    </tr>\n",
       "    <tr>\n",
       "      <th>3490</th>\n",
       "      <td>0.279167</td>\n",
       "      <td>-0.015190</td>\n",
       "      <td>-0.106506</td>\n",
       "      <td>-0.997485</td>\n",
       "      <td>-0.991130</td>\n",
       "      <td>-0.988976</td>\n",
       "      <td>-0.997647</td>\n",
       "      <td>-0.990052</td>\n",
       "      <td>-0.988587</td>\n",
       "      <td>-0.941226</td>\n",
       "      <td>...</td>\n",
       "      <td>-0.887739</td>\n",
       "      <td>-0.074398</td>\n",
       "      <td>0.127359</td>\n",
       "      <td>0.230740</td>\n",
       "      <td>-0.373745</td>\n",
       "      <td>-0.849886</td>\n",
       "      <td>0.168680</td>\n",
       "      <td>0.097540</td>\n",
       "      <td>17</td>\n",
       "      <td>SITTING</td>\n",
       "    </tr>\n",
       "    <tr>\n",
       "      <th>1800</th>\n",
       "      <td>0.166556</td>\n",
       "      <td>0.043005</td>\n",
       "      <td>-0.045671</td>\n",
       "      <td>-0.911781</td>\n",
       "      <td>-0.849840</td>\n",
       "      <td>-0.866221</td>\n",
       "      <td>-0.911822</td>\n",
       "      <td>-0.845651</td>\n",
       "      <td>-0.844142</td>\n",
       "      <td>-0.918527</td>\n",
       "      <td>...</td>\n",
       "      <td>-0.400669</td>\n",
       "      <td>0.303601</td>\n",
       "      <td>-0.574969</td>\n",
       "      <td>0.551972</td>\n",
       "      <td>-0.409641</td>\n",
       "      <td>-0.918377</td>\n",
       "      <td>0.054806</td>\n",
       "      <td>-0.024820</td>\n",
       "      <td>8</td>\n",
       "      <td>SITTING</td>\n",
       "    </tr>\n",
       "    <tr>\n",
       "      <th>3060</th>\n",
       "      <td>0.277108</td>\n",
       "      <td>-0.036253</td>\n",
       "      <td>-0.143120</td>\n",
       "      <td>-0.988408</td>\n",
       "      <td>-0.843268</td>\n",
       "      <td>-0.902108</td>\n",
       "      <td>-0.992089</td>\n",
       "      <td>-0.843481</td>\n",
       "      <td>-0.914720</td>\n",
       "      <td>-0.920777</td>\n",
       "      <td>...</td>\n",
       "      <td>-0.197349</td>\n",
       "      <td>-0.007395</td>\n",
       "      <td>-0.100683</td>\n",
       "      <td>0.949430</td>\n",
       "      <td>0.566748</td>\n",
       "      <td>-0.866997</td>\n",
       "      <td>0.039934</td>\n",
       "      <td>0.095663</td>\n",
       "      <td>16</td>\n",
       "      <td>STANDING</td>\n",
       "    </tr>\n",
       "  </tbody>\n",
       "</table>\n",
       "<p>5 rows × 563 columns</p>\n",
       "</div>"
      ],
      "text/plain": [
       "      tBodyAcc-mean()-X  tBodyAcc-mean()-Y  tBodyAcc-mean()-Z  \\\n",
       "640            0.223651          -0.014994          -0.203510   \n",
       "2152           0.270853          -0.001038          -0.120773   \n",
       "3490           0.279167          -0.015190          -0.106506   \n",
       "1800           0.166556           0.043005          -0.045671   \n",
       "3060           0.277108          -0.036253          -0.143120   \n",
       "\n",
       "      tBodyAcc-std()-X  tBodyAcc-std()-Y  tBodyAcc-std()-Z  tBodyAcc-mad()-X  \\\n",
       "640          -0.307660         -0.082588         -0.464355         -0.443444   \n",
       "2152         -0.437349         -0.030303         -0.589721         -0.499921   \n",
       "3490         -0.997485         -0.991130         -0.988976         -0.997647   \n",
       "1800         -0.911781         -0.849840         -0.866221         -0.911822   \n",
       "3060         -0.988408         -0.843268         -0.902108         -0.992089   \n",
       "\n",
       "      tBodyAcc-mad()-Y  tBodyAcc-mad()-Z  tBodyAcc-max()-X  ...  \\\n",
       "640          -0.171444         -0.486818          0.330917  ...   \n",
       "2152         -0.018909         -0.580994         -0.302790  ...   \n",
       "3490         -0.990052         -0.988587         -0.941226  ...   \n",
       "1800         -0.845651         -0.844142         -0.918527  ...   \n",
       "3060         -0.843481         -0.914720         -0.920777  ...   \n",
       "\n",
       "      fBodyBodyGyroJerkMag-kurtosis()  angle(tBodyAccMean,gravity)  \\\n",
       "640                         -0.806443                     0.157981   \n",
       "2152                        -0.299789                     0.231119   \n",
       "3490                        -0.887739                    -0.074398   \n",
       "1800                        -0.400669                     0.303601   \n",
       "3060                        -0.197349                    -0.007395   \n",
       "\n",
       "      angle(tBodyAccJerkMean),gravityMean)  angle(tBodyGyroMean,gravityMean)  \\\n",
       "640                              -0.847626                          0.924997   \n",
       "2152                             -0.244614                          0.574819   \n",
       "3490                              0.127359                          0.230740   \n",
       "1800                             -0.574969                          0.551972   \n",
       "3060                             -0.100683                          0.949430   \n",
       "\n",
       "      angle(tBodyGyroJerkMean,gravityMean)  angle(X,gravityMean)  \\\n",
       "640                              -0.109301             -0.793385   \n",
       "2152                              0.305655             -0.795227   \n",
       "3490                             -0.373745             -0.849886   \n",
       "1800                             -0.409641             -0.918377   \n",
       "3060                              0.566748             -0.866997   \n",
       "\n",
       "      angle(Y,gravityMean)  angle(Z,gravityMean)  subject            Activity  \n",
       "640               0.220866              0.093455        3  WALKING_DOWNSTAIRS  \n",
       "2152              0.228827             -0.038371       11             WALKING  \n",
       "3490              0.168680              0.097540       17             SITTING  \n",
       "1800              0.054806             -0.024820        8             SITTING  \n",
       "3060              0.039934              0.095663       16            STANDING  \n",
       "\n",
       "[5 rows x 563 columns]"
      ]
     },
     "execution_count": 8,
     "metadata": {},
     "output_type": "execute_result"
    }
   ],
   "source": [
    "train.head()"
   ]
  },
  {
   "cell_type": "code",
   "execution_count": 5,
   "metadata": {},
   "outputs": [
    {
     "name": "stdout",
     "output_type": "stream",
     "text": [
      "col_0               count\n",
      "Activity                 \n",
      "LAYING               1407\n",
      "SITTING              1286\n",
      "STANDING             1374\n",
      "WALKING              1226\n",
      "WALKING_DOWNSTAIRS    986\n",
      "WALKING_UPSTAIRS     1073\n"
     ]
    }
   ],
   "source": [
    "#Frequency Distribution of the Outome\n",
    "train_outcome = pd.crosstab(index=train[\"Activity\"],columns=\"count\")    \n",
    "print(train_outcome)"
   ]
  },
  {
   "cell_type": "code",
   "execution_count": 6,
   "metadata": {},
   "outputs": [
    {
     "data": {
      "image/png": "[encoded data removed]",
      "text/plain": [
       "<Figure size 432x288 with 1 Axes>"
      ]
     },
     "metadata": {},
     "output_type": "display_data"
    }
   ],
   "source": [
    "# Visualizing Outcome Distribution \n",
    "temp = train[\"Activity\"].value_counts()\n",
    "df = pd.DataFrame({'labels': temp.index,\n",
    "                   'values': temp.values\n",
    "                  })\n",
    "\n",
    "\n",
    "labels = df['labels']\n",
    "sizes = df['values']\n",
    "colors = ['yellowgreen', 'gold', 'lightskyblue', 'lightcoral','cyan','lightpink']\n",
    "patches, texts = plt.pie(sizes, colors=colors, shadow=True, startangle=90, pctdistance=1.1, labeldistance=1.2)\n",
    "plt.legend(patches, labels, loc=\"best\")\n",
    "plt.axis('equal')\n",
    "plt.tight_layout()\n",
    "plt.show()"
   ]
  },
  {
   "cell_type": "code",
   "execution_count": 7,
   "metadata": {},
   "outputs": [
    {
     "name": "stdout",
     "output_type": "stream",
     "text": [
      "['WALKING_DOWNSTAIRS' 'WALKING' 'SITTING' 'SITTING' 'STANDING']\n"
     ]
    }
   ],
   "source": [
    "# Seperating Predictors and Outcome values from train and test sets\n",
    "X_train = pd.DataFrame(train.drop(['Activity','subject'],axis=1))\n",
    "Y_train_label = train.Activity.values.astype(object)\n",
    "X_test = pd.DataFrame(test.drop(['Activity','subject'],axis=1))\n",
    "Y_test_label = test.Activity.values.astype(object)\n",
    "\n",
    "print(Y_train_label[0:5])"
   ]
  },
  {
   "cell_type": "code",
   "execution_count": 14,
   "metadata": {},
   "outputs": [
    {
     "name": "stdout",
     "output_type": "stream",
     "text": [
      "First 5 element of Y_train: [4 3 1 1 2]\n",
      "First 5 element of Y_test: [5 3 3 3 1]\n"
     ]
    }
   ],
   "source": [
    "# Transforming non numerical labels into numerical labels\n",
    "from sklearn import preprocessing\n",
    "encoder = preprocessing.LabelEncoder()\n",
    "\n",
    "# encoding train labels \n",
    "encoder.fit(Y_train_label)\n",
    "Y_train = encoder.transform(Y_train_label)\n",
    "\n",
    "# encoding test labels \n",
    "encoder.fit(Y_test_label)\n",
    "Y_test = encoder.transform(Y_test_label)\n",
    "\n",
    "print(\"First 5 element of Y_train:\",Y_train[0:5])\n",
    "print(\"First 5 element of Y_test:\",Y_test[0:5])"
   ]
  },
  {
   "cell_type": "code",
   "execution_count": 15,
   "metadata": {},
   "outputs": [
    {
     "name": "stdout",
     "output_type": "stream",
     "text": [
      "Dimension of Train set (7352, 561)\n",
      "Dimension of Test set (2947, 561) \n",
      "\n",
      "Dimension of Train labels (7352,)\n",
      "Dimension of Test labels (2947,) \n",
      "\n"
     ]
    }
   ],
   "source": [
    "# Dimension of Train and Test set and label\n",
    "print(\"Dimension of Train set\",X_train.shape)\n",
    "print(\"Dimension of Test set\",X_test.shape,\"\\n\")\n",
    "print(\"Dimension of Train labels\",Y_train.shape)\n",
    "print(\"Dimension of Test labels\",Y_test.shape,\"\\n\")"
   ]
  },
  {
   "cell_type": "code",
   "execution_count": 16,
   "metadata": {},
   "outputs": [
    {
     "name": "stdout",
     "output_type": "stream",
     "text": [
      "Number of numeric features: 561\n"
     ]
    }
   ],
   "source": [
    "#Total Number of Continous and Categorical features in the training set\n",
    "num_cols = X_train._get_numeric_data().columns\n",
    "print(\"Number of numeric features:\",num_cols.size)"
   ]
  },
  {
   "cell_type": "code",
   "execution_count": 17,
   "metadata": {},
   "outputs": [],
   "source": [
    "# Scaling the Train and Test feature set \n",
    "from sklearn.preprocessing import StandardScaler\n",
    "scaler = StandardScaler()\n",
    "X_train_scaled = scaler.fit_transform(X_train)\n",
    "X_test_scaled = scaler.transform(X_test)"
   ]
  },
  {
   "cell_type": "code",
   "execution_count": 18,
   "metadata": {},
   "outputs": [],
   "source": [
    "# Create the parameter grid based on the results of random search \n",
    "params_grid = [{'kernel': ['rbf'], 'gamma': [1e-3, 1e-4],\n",
    "                     'C': [1, 10, 100, 1000]},\n",
    "                    {'kernel': ['linear'], 'C': [1, 10, 100, 1000]}]"
   ]
  },
  {
   "cell_type": "code",
   "execution_count": 19,
   "metadata": {},
   "outputs": [
    {
     "data": {
      "text/plain": [
       "GridSearchCV(cv=5, estimator=SVC(),\n",
       "             param_grid=[{'C': [1, 10, 100, 1000], 'gamma': [0.001, 0.0001],\n",
       "                          'kernel': ['rbf']},\n",
       "                         {'C': [1, 10, 100, 1000], 'kernel': ['linear']}])"
      ]
     },
     "execution_count": 19,
     "metadata": {},
     "output_type": "execute_result"
    }
   ],
   "source": [
    "# Performing CV to tune parameters for best SVM fit \n",
    "svm_model = GridSearchCV(SVC(), params_grid, cv=5)\n",
    "svm_model.fit(X_train_scaled, Y_train)"
   ]
  },
  {
   "cell_type": "code",
   "execution_count": 20,
   "metadata": {},
   "outputs": [
    {
     "name": "stdout",
     "output_type": "stream",
     "text": [
      "Best score for training data: 0.9874868778238692 \n",
      "\n"
     ]
    }
   ],
   "source": [
    "# View the accuracy score\n",
    "print('Best score for training data:', svm_model.best_score_,\"\\n\") "
   ]
  },
  {
   "cell_type": "code",
   "execution_count": 21,
   "metadata": {},
   "outputs": [
    {
     "name": "stdout",
     "output_type": "stream",
     "text": [
      "Best C: 100 \n",
      "\n",
      "Best Kernel: rbf \n",
      "\n",
      "Best Gamma: 0.001 \n",
      "\n"
     ]
    }
   ],
   "source": [
    "# View the best parameters for the model found using grid search\n",
    "print('Best C:',svm_model.best_estimator_.C,\"\\n\") \n",
    "print('Best Kernel:',svm_model.best_estimator_.kernel,\"\\n\")\n",
    "print('Best Gamma:',svm_model.best_estimator_.gamma,\"\\n\")"
   ]
  },
  {
   "cell_type": "code",
   "execution_count": 22,
   "metadata": {},
   "outputs": [],
   "source": [
    "#select best model,predict and apply inverse transform to predict value\n",
    "final_model = svm_model.best_estimator_\n",
    "Y_pred = final_model.predict(X_test_scaled)\n",
    "Y_pred_label = list(encoder.inverse_transform(Y_pred))"
   ]
  },
  {
   "cell_type": "code",
   "execution_count": 23,
   "metadata": {},
   "outputs": [
    {
     "name": "stdout",
     "output_type": "stream",
     "text": [
      "[[537   0   0   0   0   0]\n",
      " [  3 440  47   0   0   1]\n",
      " [  0  13 519   0   0   0]\n",
      " [  0   0   0 486   4   6]\n",
      " [  0   0   0   6 389  25]\n",
      " [  0   0   0  15   2 454]]\n",
      "\n",
      "\n",
      "                    precision    recall  f1-score   support\n",
      "\n",
      "            LAYING       0.99      1.00      1.00       537\n",
      "           SITTING       0.97      0.90      0.93       491\n",
      "          STANDING       0.92      0.98      0.95       532\n",
      "           WALKING       0.96      0.98      0.97       496\n",
      "WALKING_DOWNSTAIRS       0.98      0.93      0.95       420\n",
      "  WALKING_UPSTAIRS       0.93      0.96      0.95       471\n",
      "\n",
      "          accuracy                           0.96      2947\n",
      "         macro avg       0.96      0.96      0.96      2947\n",
      "      weighted avg       0.96      0.96      0.96      2947\n",
      "\n",
      "Training set score for SVM: 1.000000\n",
      "Testing  set score for SVM: 0.958602\n"
     ]
    }
   ],
   "source": [
    "# Making the Confusion Matrix\n",
    "\n",
    "print(confusion_matrix(Y_test_label,Y_pred_label))\n",
    "print(\"\\n\")\n",
    "print(classification_report(Y_test_label,Y_pred_label))\n",
    "\n",
    "print(\"Training set score for SVM: %f\" % final_model.score(X_train_scaled , Y_train))\n",
    "print(\"Testing  set score for SVM: %f\" % final_model.score(X_test_scaled  , Y_test ))"
   ]
  },
  {
   "cell_type": "code",
   "execution_count": null,
   "metadata": {},
   "outputs": [],
   "source": []
  }
 ],
 "metadata": {
  "kernelspec": {
   "display_name": "Python 3",
   "language": "python",
   "name": "python3"
  },
  "language_info": {
   "codemirror_mode": {
    "name": "ipython",
    "version": 3
   },
   "file_extension": ".py",
   "mimetype": "text/x-python",
   "name": "python",
   "nbconvert_exporter": "python",
   "pygments_lexer": "ipython3",
   "version": "3.7.6"
  }
 },
 "nbformat": 4,
 "nbformat_minor": 4
}
